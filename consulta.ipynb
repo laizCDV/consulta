{
 "cells": [
  {
   "cell_type": "code",
   "execution_count": null,
   "metadata": {},
   "outputs": [],
   "source": [

    "import warnings\n",
    "warnings.filterwarnings(\"ignore\")\n",
    "\n",
    "import sys\n",
    "\n",
    "sys.path.insert(1, '/mnt/c/scripts/tools/')\n",
    "\n",
    "from bigquery_bucket_tools import *\n",
    "from plot_tools import *\n",
    "from tools import *\n",
    "\n",
    "from datetime import datetime, timedelta, date \n",
    "from dateutil.relativedelta import *\n",
    "from netCDF4 import Dataset   \n",
    "import glob\n",
    "import requests \n",
    "import pandas as pd\n",
    "import xarray as xr\n",
    "import requests \n",
    "import functools\n",
    "import operator\n",
    "import wget\n",
    "import os\n",
    "import gc\n",
    "import numpy as np\n",
    "import pygrib\n",
    "\n",
    "import geopandas as gpd\n",
    "import shapely\n",
    "import shapefile\n",
    "import cartopy.io.shapereader as shpreader\n",
    "import cartopy.feature as cfeature\n",
    "import cartopy, cartopy.crs as ccrs   \n",
    "import geopandas as gpd\n",
    "import regionmask\n",
    "from shapely.geometry import Point, Polygon\n",
    "\n",
    "from matplotlib import pyplot as plt\n",
    "import matplotlib.colors as mcolors\n",
    "import matplotlib.ticker as mticker \n",
    "import scipy.ndimage as ndimage\n",
    "from PIL import Image\n",
    "from scipy.ndimage import gaussian_filter\n",
    "import scipy.ndimage\n",
    "\n",
    "from google.cloud import storage, bigquery"
   ]
  },
  {
   "cell_type": "code",
   "execution_count": null,
   "metadata": {},
   "outputs": [],
   "source": [
    "#Data de referência \n",
    "\n",
    "datetime.today() - relativedelta(month=1)\n",
    "data = datetime.strptime('2023-03-31', '%Y-%m-%d') \n",
    "data_ = data.date().strftime('%Y-%m-01') \n",
    "\n",
    "\n",
    "# selecionar a data do mês de feva partir do dia \n",
    "data_ini = (data - relativedelta(months=1)).date().strftime('%Y-%m-01') \n",
    "\n",
    "\n",
    "##Extrai o ultimo dia do mes\n",
    "data_fim = (datetime.strptime(data_,'%Y-%m-%d') - timedelta(days=datetime.strptime(data_,'%Y-%m-%d').day)).date().strftime('%Y-%m-%d')"
   ]
  },
  {
   "cell_type": "code",
   "execution_count": null,
   "metadata": {},
   "outputs": [],
   "source": []
  },
  {
   "attachments": {},
   "cell_type": "markdown",
   "metadata": {},
   "source": [
    "**Consultas BigQuery**"
   ]
  },
  {
   "attachments": {},
   "cell_type": "markdown",
   "metadata": {},
   "source": [
    "Merge"
   ]
  },
  {
   "cell_type": "markdown",
   "metadata": {},
   "source": []
  },
  {
   "cell_type": "code",
   "execution_count": null,
   "metadata": {},
   "outputs": [],
   "source": [
    "#Consulta merge_precipitacao\n",
    "\n",
    "root='/mnt/c/scripts/relatorio_mensal/resultados/'\n",
    "\n",
    "direc='/mnt/c/scripts/dados_plot'\n",
    "\n",
    "\n",
    "project_name = 'modelagem-de-precos'\n",
    "dataset ='cptec'\n",
    "table ='merge_precipitacao'\n",
    "ref = 'date'\n",
    "\n",
    "client = storage.Client(project=project_name)\n",
    "bq_client = bigquery.Client(project=project_name)\n",
    "\n",
    "#modelagem-de-precos.cptec.merge_precipitacao\n",
    "\n",
    "# MERGE DAILY \n",
    "merge = bq_client.query(\n",
    "f'''SELECT * FROM `{project_name}.{dataset}.{table}` WHERE DATE({ref}) BETWEEN \"{data_ini}\" AND \"{data_fim}\" ORDER BY DATE({ref})''').result().to_dataframe().drop_duplicates(keep='first', ignore_index=True)"
   ]
  },
  {
   "attachments": {},
   "cell_type": "markdown",
   "metadata": {},
   "source": [
    "*Modelo EC- Sazonal*\n"
   ]
  },
  {
   "cell_type": "code",
   "execution_count": null,
   "metadata": {},
   "outputs": [],
   "source": [
    "#Consulta EC- Sazonal \n",
    "\n",
    "\n",
    "dataset ='copernicus_ecmwf'\n",
    "table ='precipitation_ecens7m'\n",
    "ref = 'forecast'\n",
    "\n",
    "\n",
    "#1 - filtrar com a data\n",
    "#2-  fazer o esemble (agrupa por tudo menos o mes)\n",
    "\n",
    "ec = bq_client.query(\n",
    "f'''WITH table1 AS (\n",
    "SELECT  \n",
    "  mes_ref\n",
    ", forecast\n",
    ", membro\n",
    ", latitude\n",
    ", longitude\n",
    ", prec_diaria \n",
    "FROM `{project_name}.{dataset}.{table}` \n",
    "\n",
    "\n",
    "WHERE DATE(forecast) \n",
    "\n",
    "BETWEEN \"{data_ini}\" AND \"{data_fim}\" \n",
    "\n",
    "ORDER BY DATE({ref}))\n",
    "\n",
    "SELECT \n",
    "  mes_ref\n",
    ", forecast\n",
    ", latitude\n",
    ", longitude\n",
    ", avg(prec_diaria) as precipitation\n",
    "\n",
    "FROM table1 \n",
    "\n",
    "GROUP BY mes_ref , forecast , latitude, longitude\n",
    "\n",
    "''').result().to_dataframe().drop_duplicates(keep='first', ignore_index=True) #retira indices iguais \n",
    "\n",
    "\n"
   ]
  },
  {
   "attachments": {},
   "cell_type": "markdown",
   "metadata": {},
   "source": [
    "*Climatologia*\n",
    "----------------------------------------\n",
    "Os dados não possuem ano, é apenas uma forma de organização no google cloud\n"
   ]
  },
  {
   "attachments": {},
   "cell_type": "markdown",
   "metadata": {},
   "source": [
    "#Consulta CLIMATOLOGIA \n",
    "\n",
    "\n",
    "def read_query_nested(list_month: list, project: str, dataset: str, table: str, nested_flag: str ) -> pd.DataFrame:\n",
    "    \n",
    "    bq_client = bigquery.Client(project=project)\n",
    "\n",
    "    query_bq = \"SELECT monthofyear, longitude, nested.* FROM {}, UNNEST({}) AS {} WHERE extract(month from monthofyear) in ({}) \".format(f\"{project}.{dataset}.{table}\", nested_flag, nested_flag, list_months)\n",
    "\n",
    "    dataframe = bq_client.query(query_bq).result().to_dataframe()\n",
    "\n",
    "    dataframe.drop_duplicates(keep='first', inplace=True, ignore_index=True)\n",
    "            \n",
    "    return dataframe\n"
   ]
  },
  {
   "cell_type": "code",
   "execution_count": null,
   "metadata": {},
   "outputs": [],
   "source": [
    "list_months = str([int((data - relativedelta(months=month)).strftime('%m')) for month in np.arange(1,2)]).replace('[', '').replace(']', '')\n",
    "print(list_months) #mês de fevereiro \n",
    "\n",
    "\n",
    "\n",
    "climatologia = read_query_nested(list_months, 'modelagem-de-precos', 'climatologies', 'merge_monthly_accumulated_grid', 'nested')\n",
    "\n",
    "climatologia = climatologia.rename({'monthofyear': 'forecast_month'}, axis=1)\n",
    "\n",
    "climatologia['forecast_month'] = pd.to_datetime(climatologia['forecast_month']).dt.strftime('%m')\n",
    "\n",
    "climatologia = climatologia[['latitude', 'longitude', 'forecast_month', 'precipitation']]\n",
    "\n",
    "\n",
    "\n",
    "\n",
    "\n",
    "def manipula_frame(dataframe: pd.DataFrame, string_forecast) -> pd.DataFrame:\n",
    "\n",
    "    lista = sorted(dataframe[string_forecast].unique())\n",
    "      \n",
    "    dataframe = dataframe.groupby([string_forecast, 'lat', 'lon']).sum().reset_index() \n",
    "    \n",
    "    dataframe.sort_values(by=[string_forecast, 'lat', 'lon'], ascending=True, inplace=True)\n",
    "\n",
    "    dataframe.set_index(['lat', 'lon']).to_xarray()\n",
    "    \n",
    "    return dataframe\n",
    "\n"
   ]
  }
 ],
 "metadata": {
  "language_info": {
   "name": "python"
  },
  "orig_nbformat": 4
 },
 "nbformat": 4,
 "nbformat_minor": 2
}
